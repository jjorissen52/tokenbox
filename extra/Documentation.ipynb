{
 "cells": [
  {
   "cell_type": "markdown",
   "metadata": {},
   "source": [
    "# tokenbox\n",
    "RESTful API token management utility \n",
    "\n",
    "### Description\n",
    "RESTful APIs require you to manage and refresh authorization tokens. When starting out with a new API, you don't really want to mess with that stuff; you just want the tokens to go somewhere you can get them whenever you need them and ignore them the rest of the time. `tokenbox` is designed to facilitate putting them somewhere, like a nice neat little box in the corner.\n",
    "\n",
    "Tokenbox will ensure that there is only 1 row in any database that it manages, so you don't need to worry about databases taking up unnecessary disk space."
   ]
  },
  {
   "cell_type": "markdown",
   "metadata": {},
   "source": [
    "With no configuration, `tokenbox` is capable of generating SQLite databases. Here is a description the arguments that an instance of TokenBox expects from `tokenbox.py`"
   ]
  },
  {
   "cell_type": "markdown",
   "metadata": {},
   "source": [
    "* `db_user (string)`: user of db login role (must be capable of creating a PG database)\n",
    "* `db_password (string)`: password of db login role\n",
    "* `db_name (string)`: name of database to be created/managed\n",
    "* `use_sqlite (bool)`: whether or not to use sqlite\n",
    "* `metadata (sqlalchemy.MetaData)`: metadata used in table definitions \n",
    "* `kwargs (sqlalchemy.Table)`: names of Tables and corresponding definitions "
   ]
  },
  {
   "cell_type": "markdown",
   "metadata": {},
   "source": [
    "Below is an example of creating an SQLite database for multiple tokens. These tables were designed for use with the Bullhorn api."
   ]
  },
  {
   "cell_type": "code",
   "execution_count": 1,
   "metadata": {},
   "outputs": [
    {
     "name": "stdout",
     "output_type": "stream",
     "text": [
      "[('login_token_pk', 1), ('access_token', '12341234123asdfasdf4'), ('expires_in', 300), ('refresh_token', 'asdfkk23784987123khjga'), ('token_type', 'login'), ('expiry', 12312312)]\n",
      "[('access_token_pk', 1), ('rest_token', '12341234123asdfasdf4'), ('rest_url', 'asdfkk23784987123khjga')]\n",
      "This will destroy the database named tokenbox_test. Perform Keyboard Interrupt to abort.\n",
      "tokenbox_test dropped successfully.\n"
     ]
    }
   ],
   "source": [
    "from sqlalchemy import Table, MetaData, Column, Integer, String\n",
    "from tokenbox import TokenBox\n",
    "\n",
    "metadata = MetaData()\n",
    "\n",
    "table_definitions = {\n",
    "    \"login_token\": Table(\"login_token\", metadata,\n",
    "        # primary key must be in the format '{table_name}_pk`\n",
    "        Column(\"login_token_pk\", Integer, primary_key=True),\n",
    "        Column('access_token', String(45), nullable=False),\n",
    "        Column('expires_in', Integer, nullable=False),\n",
    "        Column('refresh_token', String(45), nullable=False),\n",
    "        Column('token_type', String(45), nullable=False),\n",
    "        Column('expiry', Integer, nullable=False),\n",
    "    ),\n",
    "    \"access_token\": Table(\"access_token\", metadata,\n",
    "        # primary key must be in the format '{table_name}_pk`                      \n",
    "        Column(\"access_token_pk\", Integer, primary_key=True),\n",
    "        Column('rest_token', String(45), nullable=False),\n",
    "        Column('rest_url', String(60), nullable=False)\n",
    "    )\n",
    "}\n",
    "\n",
    "use_sqlite = True\n",
    "\n",
    "tokenbox = TokenBox('db_user', 'db_pass', 'tokenbox_test', use_sqlite, metadata, **table_definitions)\n",
    "# Creates a database corresponding to the arguments passed during TokenBox initialization\n",
    "tokenbox.create_database()\n",
    "# Updates (or inserts) the row into the 'login_token' table (there can only be one row!)\n",
    "tokenbox.update_token('login_token', access_token=\"12341234123asdfasdf4\", expires_in=300,\n",
    "                      refresh_token=\"asdfkk23784987123khjga\", token_type=\"login\", expiry=12312312)\n",
    "# Updates (or inserts) the row into the 'access_token' table (there can only be one row!)\n",
    "tokenbox.update_token('access_token', rest_token=\"12341234123asdfasdf4\", rest_url=\"asdfkk23784987123khjga\")\n",
    "# Gets the row from the 'login_token' table (there's only one row in storage!)\n",
    "login_token = tokenbox.get_token('login_token')\n",
    "print(login_token.items())\n",
    "# Gets the row from the 'access_token' table (there's only one row in storage!)\n",
    "access_token = tokenbox.get_token('access_token')\n",
    "print(access_token.items())\n",
    "\n",
    "tokenbox.destroy_database()"
   ]
  },
  {
   "cell_type": "markdown",
   "metadata": {},
   "source": [
    "Hope this does you some good!"
   ]
  }
 ],
 "metadata": {
  "kernelspec": {
   "display_name": "Python (tokenbox)",
   "language": "python",
   "name": "tokenbox"
  },
  "language_info": {
   "codemirror_mode": {
    "name": "ipython",
    "version": 3
   },
   "file_extension": ".py",
   "mimetype": "text/x-python",
   "name": "python",
   "nbconvert_exporter": "python",
   "pygments_lexer": "ipython3",
   "version": "3.6.2"
  }
 },
 "nbformat": 4,
 "nbformat_minor": 2
}
